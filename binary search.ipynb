{
 "cells": [
  {
   "cell_type": "code",
   "execution_count": null,
   "id": "4ff66e3f",
   "metadata": {},
   "outputs": [],
   "source": [
    "# Implement a bonary search:\n",
    "def bsearch(l,key):\n",
    "    i=0\n",
    "    j=len(l)-1\n",
    "    flag=0\n",
    "    while i<=j and flag==0:\n",
    "        mid=i+j//2\n",
    "        if l[mid]==key:\n",
    "            flag=flag+1\n",
    "            pos=mid+1\n",
    "        elif l[mid]>key:\n",
    "            j=mid-1\n",
    "        elif l[mid]<key:\n",
    "            i=mid+1\n",
    "    if flag==1:\n",
    "        print(\"key found at %d position.\"%(pos))\n",
    "    else:\n",
    "        print(\"not found\")\n",
    "    \n",
    "\n",
    "\n",
    "n=int(input(\"enter size of the list:\"))\n",
    "l=[]\n",
    "for i in range(n):\n",
    "    val=int(input(\"enter value in a sorted form:\"))\n",
    "    l.append(val)\n",
    "print(l)\n",
    "key=int(input(\"enter number to be search:\"))\n",
    "bsearch(l,key)\n"
   ]
  },
  {
   "cell_type": "code",
   "execution_count": null,
   "id": "324e15b6",
   "metadata": {},
   "outputs": [],
   "source": []
  },
  {
   "cell_type": "code",
   "execution_count": null,
   "id": "eb66edf1",
   "metadata": {},
   "outputs": [],
   "source": []
  },
  {
   "cell_type": "code",
   "execution_count": null,
   "id": "d24f93e8",
   "metadata": {},
   "outputs": [],
   "source": []
  },
  {
   "cell_type": "code",
   "execution_count": null,
   "id": "1c72963c",
   "metadata": {},
   "outputs": [],
   "source": []
  }
 ],
 "metadata": {
  "kernelspec": {
   "display_name": "Python 3 (ipykernel)",
   "language": "python",
   "name": "python3"
  },
  "language_info": {
   "codemirror_mode": {
    "name": "ipython",
    "version": 3
   },
   "file_extension": ".py",
   "mimetype": "text/x-python",
   "name": "python",
   "nbconvert_exporter": "python",
   "pygments_lexer": "ipython3",
   "version": "3.9.7"
  }
 },
 "nbformat": 4,
 "nbformat_minor": 5
}
